{
 "cells": [
  {
   "cell_type": "markdown",
   "id": "92314add",
   "metadata": {},
   "source": [
    "# Interactive request examples "
   ]
  },
  {
   "cell_type": "code",
   "execution_count": null,
   "id": "1a8edca5",
   "metadata": {},
   "outputs": [],
   "source": [
    "import PIL.Image\n",
    "import sys\n",
    "import io\n",
    "from requests import request"
   ]
  },
  {
   "cell_type": "code",
   "execution_count": null,
   "id": "b80e912f",
   "metadata": {},
   "outputs": [],
   "source": [
    "img = PIL.Image.open('../data/dog.jpg')\n",
    "type(img)"
   ]
  },
  {
   "cell_type": "code",
   "execution_count": null,
   "id": "3ca76338",
   "metadata": {
    "scrolled": true
   },
   "outputs": [],
   "source": [
    "buffer = io.BytesIO()\n",
    "img.save(buffer, format='JPEG')\n",
    "\n",
    "with buffer as buf:\n",
    "    buffer.seek(0)\n",
    "    response = request('POST', 'http://localhost:1234/classify', data=buf)\n",
    "\n",
    "response.content"
   ]
  },
  {
   "cell_type": "markdown",
   "id": "a02a7395",
   "metadata": {},
   "source": [
    "## Pytorch model examples"
   ]
  },
  {
   "cell_type": "code",
   "execution_count": null,
   "id": "9bea5df4",
   "metadata": {},
   "outputs": [],
   "source": [
    "img"
   ]
  },
  {
   "cell_type": "code",
   "execution_count": null,
   "id": "02e75f7b",
   "metadata": {},
   "outputs": [],
   "source": [
    "import json\n",
    "import tensorflow as tf\n",
    "import numpy as np"
   ]
  },
  {
   "cell_type": "code",
   "execution_count": null,
   "id": "cc8b7e05",
   "metadata": {
    "scrolled": true
   },
   "outputs": [],
   "source": [
    "resnet = tf.keras.applications.ResNet101()"
   ]
  },
  {
   "cell_type": "code",
   "execution_count": null,
   "id": "9abf386b",
   "metadata": {},
   "outputs": [],
   "source": [
    "img_t = tf.convert_to_tensor(\n",
    "    img, dtype=None, dtype_hint=None, name=None\n",
    ")\n",
    "img_t = tf.expand_dims(img_t, axis=0)\n",
    "img_t = tf.image.resize(img_t, (224, 224))"
   ]
  },
  {
   "cell_type": "code",
   "execution_count": null,
   "id": "d023df66",
   "metadata": {},
   "outputs": [],
   "source": [
    "%%time\n",
    "out = resnet(img_t)"
   ]
  },
  {
   "cell_type": "code",
   "execution_count": null,
   "id": "caa27f78",
   "metadata": {},
   "outputs": [],
   "source": [
    "idxs = tf.argsort(out)[0][:3].numpy()"
   ]
  },
  {
   "cell_type": "code",
   "execution_count": null,
   "id": "d5e3f3ca",
   "metadata": {},
   "outputs": [],
   "source": [
    "with open('../data/imgnet_cats_ru.txt') as f:\n",
    "    cats = f.readlines()\n",
    "\n",
    "cats_ru = [s.rstrip() for s in cats]"
   ]
  },
  {
   "cell_type": "code",
   "execution_count": null,
   "id": "61cce062",
   "metadata": {},
   "outputs": [],
   "source": [
    "[cats_ru[int(i)] for i in idxs]"
   ]
  }
 ],
 "metadata": {
  "kernelspec": {
   "display_name": "Python 3 (ipykernel)",
   "language": "python",
   "name": "python3"
  },
  "language_info": {
   "codemirror_mode": {
    "name": "ipython",
    "version": 3
   },
   "file_extension": ".py",
   "mimetype": "text/x-python",
   "name": "python",
   "nbconvert_exporter": "python",
   "pygments_lexer": "ipython3",
   "version": "3.10.1"
  }
 },
 "nbformat": 4,
 "nbformat_minor": 5
}
